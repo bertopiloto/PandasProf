{
 "cells": [
  {
   "cell_type": "markdown",
   "id": "63e5d033-81bf-4223-91ed-04871f25faea",
   "metadata": {},
   "source": [
    "Link do site do pacote [ydata-profiling](https://docs.profiling.ydata.ai/latest/)\n",
    "\n",
    "Link com mais detalhes da base de dados no [Kaggle](https://www.kaggle.com/datasets/pavansubhasht/ibm-hr-analytics-attrition-dataset/data)"
   ]
  },
  {
   "cell_type": "markdown",
   "id": "74e499c6-c504-4dc7-9100-e1e654f3aea9",
   "metadata": {},
   "source": [
    "Para instalar o pacote ydata-profiling: `pip install -U ydata-profiling[notebook]`"
   ]
  },
  {
   "cell_type": "code",
   "execution_count": 1,
   "id": "4e4af3d6-f0ea-4391-9482-ab9f3222f781",
   "metadata": {},
   "outputs": [],
   "source": [
    "import pandas as pd\n",
    "from ydata_profiling import ProfileReport"
   ]
  },
  {
   "cell_type": "code",
   "execution_count": 4,
   "id": "84cf87b0-b566-426d-bfc2-267425f5b852",
   "metadata": {},
   "outputs": [
    {
     "data": {
      "text/html": [
       "<div>\n",
       "<style scoped>\n",
       "    .dataframe tbody tr th:only-of-type {\n",
       "        vertical-align: middle;\n",
       "    }\n",
       "\n",
       "    .dataframe tbody tr th {\n",
       "        vertical-align: top;\n",
       "    }\n",
       "\n",
       "    .dataframe thead th {\n",
       "        text-align: right;\n",
       "    }\n",
       "</style>\n",
       "<table border=\"1\" class=\"dataframe\">\n",
       "  <thead>\n",
       "    <tr style=\"text-align: right;\">\n",
       "      <th></th>\n",
       "      <th>url</th>\n",
       "      <th>id</th>\n",
       "      <th>publisherName</th>\n",
       "      <th>releaseDate</th>\n",
       "      <th>name</th>\n",
       "      <th>isAgeRestricted</th>\n",
       "      <th>activeCtaId</th>\n",
       "      <th>starRating/averageRating</th>\n",
       "      <th>starRating/totalRatingsCount</th>\n",
       "    </tr>\n",
       "  </thead>\n",
       "  <tbody>\n",
       "    <tr>\n",
       "      <th>0</th>\n",
       "      <td>https://store.playstation.com/en-us/product/UP...</td>\n",
       "      <td>UP0101-PPSA19225_00-0159266583099383</td>\n",
       "      <td>Konami Digital Entertainment, Inc.</td>\n",
       "      <td>2024-03-28T04:00:00Z</td>\n",
       "      <td>Felix the Cat</td>\n",
       "      <td>False</td>\n",
       "      <td>PREORDER:BUY_NOW:UP0101-PPSA19225_00-015926658...</td>\n",
       "      <td>5.00</td>\n",
       "      <td>1</td>\n",
       "    </tr>\n",
       "    <tr>\n",
       "      <th>1</th>\n",
       "      <td>https://store.playstation.com/en-us/product/UP...</td>\n",
       "      <td>UP2565-PPSA04379_00-0242096879154610</td>\n",
       "      <td>astragon Entertainment GmbH</td>\n",
       "      <td>2024-04-04T15:00:00Z</td>\n",
       "      <td>Construction Simulator - Gold Edition</td>\n",
       "      <td>False</td>\n",
       "      <td>PREORDER:BUY_NOW:UP2565-PPSA04379_00-024209687...</td>\n",
       "      <td>3.55</td>\n",
       "      <td>1526</td>\n",
       "    </tr>\n",
       "    <tr>\n",
       "      <th>2</th>\n",
       "      <td>https://store.playstation.com/en-us/product/UP...</td>\n",
       "      <td>UP4040-PPSA04721_00-HUNDREDHEROESDLX</td>\n",
       "      <td>505 Games</td>\n",
       "      <td>2024-04-21T13:00:00Z</td>\n",
       "      <td>Eiyuden Chronicle: Hundred Heroes - Digital De...</td>\n",
       "      <td>False</td>\n",
       "      <td>PREORDER:BUY_NOW:UP4040-PPSA04721_00-HUNDREDHE...</td>\n",
       "      <td>4.79</td>\n",
       "      <td>29</td>\n",
       "    </tr>\n",
       "    <tr>\n",
       "      <th>3</th>\n",
       "      <td>https://store.playstation.com/en-us/product/UP...</td>\n",
       "      <td>UP4040-PPSA04721_00-EIYUDENHEROESPS5</td>\n",
       "      <td>505 Games</td>\n",
       "      <td>2024-04-23T13:00:00Z</td>\n",
       "      <td>Eiyuden Chronicle: Hundred Heroes</td>\n",
       "      <td>False</td>\n",
       "      <td>PREORDER:BUY_NOW:UP4040-PPSA04721_00-EIYUDENHE...</td>\n",
       "      <td>4.79</td>\n",
       "      <td>29</td>\n",
       "    </tr>\n",
       "    <tr>\n",
       "      <th>4</th>\n",
       "      <td>https://store.playstation.com/en-us/product/UP...</td>\n",
       "      <td>UP9000-PPSA13196_00-STELLARBLADEDDE0</td>\n",
       "      <td>Sony Interactive Entertainment</td>\n",
       "      <td>2024-04-26T04:00:00Z</td>\n",
       "      <td>Stellar Blade™ Digital Deluxe Edition</td>\n",
       "      <td>False</td>\n",
       "      <td>PREORDER:BUY_NOW:UP9000-PPSA13196_00-STELLARBL...</td>\n",
       "      <td>0.00</td>\n",
       "      <td>0</td>\n",
       "    </tr>\n",
       "  </tbody>\n",
       "</table>\n",
       "</div>"
      ],
      "text/plain": [
       "                                                 url  \\\n",
       "0  https://store.playstation.com/en-us/product/UP...   \n",
       "1  https://store.playstation.com/en-us/product/UP...   \n",
       "2  https://store.playstation.com/en-us/product/UP...   \n",
       "3  https://store.playstation.com/en-us/product/UP...   \n",
       "4  https://store.playstation.com/en-us/product/UP...   \n",
       "\n",
       "                                     id                       publisherName  \\\n",
       "0  UP0101-PPSA19225_00-0159266583099383  Konami Digital Entertainment, Inc.   \n",
       "1  UP2565-PPSA04379_00-0242096879154610         astragon Entertainment GmbH   \n",
       "2  UP4040-PPSA04721_00-HUNDREDHEROESDLX                           505 Games   \n",
       "3  UP4040-PPSA04721_00-EIYUDENHEROESPS5                           505 Games   \n",
       "4  UP9000-PPSA13196_00-STELLARBLADEDDE0      Sony Interactive Entertainment   \n",
       "\n",
       "            releaseDate                                               name  \\\n",
       "0  2024-03-28T04:00:00Z                                      Felix the Cat   \n",
       "1  2024-04-04T15:00:00Z              Construction Simulator - Gold Edition   \n",
       "2  2024-04-21T13:00:00Z  Eiyuden Chronicle: Hundred Heroes - Digital De...   \n",
       "3  2024-04-23T13:00:00Z                  Eiyuden Chronicle: Hundred Heroes   \n",
       "4  2024-04-26T04:00:00Z              Stellar Blade™ Digital Deluxe Edition   \n",
       "\n",
       "   isAgeRestricted                                        activeCtaId  \\\n",
       "0            False  PREORDER:BUY_NOW:UP0101-PPSA19225_00-015926658...   \n",
       "1            False  PREORDER:BUY_NOW:UP2565-PPSA04379_00-024209687...   \n",
       "2            False  PREORDER:BUY_NOW:UP4040-PPSA04721_00-HUNDREDHE...   \n",
       "3            False  PREORDER:BUY_NOW:UP4040-PPSA04721_00-EIYUDENHE...   \n",
       "4            False  PREORDER:BUY_NOW:UP9000-PPSA13196_00-STELLARBL...   \n",
       "\n",
       "   starRating/averageRating  starRating/totalRatingsCount  \n",
       "0                      5.00                             1  \n",
       "1                      3.55                          1526  \n",
       "2                      4.79                            29  \n",
       "3                      4.79                            29  \n",
       "4                      0.00                             0  "
      ]
     },
     "execution_count": 4,
     "metadata": {},
     "output_type": "execute_result"
    }
   ],
   "source": [
    "import pandas as pd\n",
    "\n",
    "# Definindo o caminho do arquivo corretamente\n",
    "DADOS = r\"C:\\Users\\nkber\\Documents\\ps5\\ps5.csv\"\n",
    "\n",
    "# Lendo o arquivo CSV\n",
    "df = pd.read_csv(DADOS)\n",
    "\n",
    "# Mostrando as primeiras linhas do dataframe\n",
    "df.head()\n"
   ]
  },
  {
   "cell_type": "code",
   "execution_count": 5,
   "id": "57c1a9a8-79e9-4475-a136-e88455337e69",
   "metadata": {},
   "outputs": [
    {
     "name": "stdout",
     "output_type": "stream",
     "text": [
      "<class 'pandas.core.frame.DataFrame'>\n",
      "RangeIndex: 2001 entries, 0 to 2000\n",
      "Data columns (total 9 columns):\n",
      " #   Column                        Non-Null Count  Dtype  \n",
      "---  ------                        --------------  -----  \n",
      " 0   url                           2001 non-null   object \n",
      " 1   id                            2001 non-null   object \n",
      " 2   publisherName                 2000 non-null   object \n",
      " 3   releaseDate                   2001 non-null   object \n",
      " 4   name                          2001 non-null   object \n",
      " 5   isAgeRestricted               2001 non-null   bool   \n",
      " 6   activeCtaId                   2001 non-null   object \n",
      " 7   starRating/averageRating      2001 non-null   float64\n",
      " 8   starRating/totalRatingsCount  2001 non-null   int64  \n",
      "dtypes: bool(1), float64(1), int64(1), object(6)\n",
      "memory usage: 127.1+ KB\n"
     ]
    }
   ],
   "source": [
    "df.info()"
   ]
  },
  {
   "cell_type": "code",
   "execution_count": 7,
   "id": "af301fb6-8e1d-49a3-941d-27df8d8b71f5",
   "metadata": {},
   "outputs": [
    {
     "data": {
      "application/vnd.jupyter.widget-view+json": {
       "model_id": "bc6aeba167d34089a97aacf46cd10fad",
       "version_major": 2,
       "version_minor": 0
      },
      "text/plain": [
       "Export report to file:   0%|          | 0/1 [00:00<?, ?it/s]"
      ]
     },
     "metadata": {},
     "output_type": "display_data"
    },
    {
     "name": "stdout",
     "output_type": "stream",
     "text": [
      "Relatório salvo com sucesso como 'eda_report.html'\n"
     ]
    }
   ],
   "source": [
    "# Tente salvar no diretório atual\n",
    "try:\n",
    "    profile.to_file(\"eda_report.html\")\n",
    "    print(\"Relatório salvo com sucesso como 'eda_report.html'\")\n",
    "except Exception as e:\n",
    "    print(f\"Ocorreu um erro ao gerar ou salvar o relatório: {e}\")\n"
   ]
  },
  {
   "cell_type": "code",
   "execution_count": 8,
   "id": "d5315fff",
   "metadata": {},
   "outputs": [
    {
     "name": "stdout",
     "output_type": "stream",
     "text": [
      "h:\\downloads\n"
     ]
    }
   ],
   "source": [
    "import os\n",
    "print(os.getcwd())\n"
   ]
  }
 ],
 "metadata": {
  "kernelspec": {
   "display_name": "Python 3",
   "language": "python",
   "name": "python3"
  },
  "language_info": {
   "codemirror_mode": {
    "name": "ipython",
    "version": 3
   },
   "file_extension": ".py",
   "mimetype": "text/x-python",
   "name": "python",
   "nbconvert_exporter": "python",
   "pygments_lexer": "ipython3",
   "version": "3.12.6"
  }
 },
 "nbformat": 4,
 "nbformat_minor": 5
}
